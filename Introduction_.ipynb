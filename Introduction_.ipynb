{
  "nbformat": 4,
  "nbformat_minor": 0,
  "metadata": {
    "colab": {
      "name": "Introduction .ipynb",
      "provenance": [],
      "authorship_tag": "ABX9TyPTw51IDK3PuOxoitN0ePNv",
      "include_colab_link": true
    },
    "kernelspec": {
      "name": "python3",
      "display_name": "Python 3"
    },
    "language_info": {
      "name": "python"
    }
  },
  "cells": [
    {
      "cell_type": "markdown",
      "metadata": {
        "id": "view-in-github",
        "colab_type": "text"
      },
      "source": [
        "<a href=\"https://colab.research.google.com/github/Phimphakanph22/BasicProg_DataViz65/blob/main/Introduction_.ipynb\" target=\"_parent\"><img src=\"https://colab.research.google.com/assets/colab-badge.svg\" alt=\"Open In Colab\"/></a>"
      ]
    },
    {
      "cell_type": "code",
      "execution_count": null,
      "metadata": {
        "id": "kNZBUmD2FySe"
      },
      "outputs": [],
      "source": [
        "พิมพกานต์ ภูพานทอง"
      ]
    },
    {
      "cell_type": "markdown",
      "source": [
        "633021021-4"
      ],
      "metadata": {
        "id": "dZYhJw8jHcRL"
      }
    },
    {
      "cell_type": "markdown",
      "source": [
        "Markdown"
      ],
      "metadata": {
        "id": "7ffAOz-CHe_l"
      }
    },
    {
      "cell_type": "code",
      "source": [
        ""
      ],
      "metadata": {
        "id": "IyVKWP_7Hgob"
      },
      "execution_count": null,
      "outputs": []
    }
  ]
}