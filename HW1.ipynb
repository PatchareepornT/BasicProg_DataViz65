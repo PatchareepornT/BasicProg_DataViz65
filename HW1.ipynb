{
  "nbformat": 4,
  "nbformat_minor": 0,
  "metadata": {
    "colab": {
      "name": "HW1.ipynb",
      "provenance": [],
      "authorship_tag": "ABX9TyPXGnET+ZbP3XcuglLWz5Lo",
      "include_colab_link": true
    },
    "kernelspec": {
      "name": "python3",
      "display_name": "Python 3"
    },
    "language_info": {
      "name": "python"
    }
  },
  "cells": [
    {
      "cell_type": "markdown",
      "metadata": {
        "id": "view-in-github",
        "colab_type": "text"
      },
      "source": [
        "<a href=\"https://colab.research.google.com/github/Phimphakanph22/BasicProg_DataViz65/blob/main/HW1.ipynb\" target=\"_parent\"><img src=\"https://colab.research.google.com/assets/colab-badge.svg\" alt=\"Open In Colab\"/></a>"
      ]
    },
    {
      "cell_type": "markdown",
      "source": [
        "# HW1"
      ],
      "metadata": {
        "id": "wEaT6-7FM8ua"
      }
    },
    {
      "cell_type": "markdown",
      "source": [
        "เขียน function แสดงความต่างของเวลา (Quiz1) โดย input อยู่ในรูปแบบ '09 : 11 : 50 - 12: 30 : 15 '\n",
        "และทดลองรัน\n",
        "\n",
        "1. '09:11:50 - 12:30:15'\n",
        "2. '13:41:07 - 20:00:18'\n",
        "3. '00:00:00 - 23:59:59'"
      ],
      "metadata": {
        "id": "rwcJ5D2jMfFA"
      }
    },
    {
      "cell_type": "code",
      "source": [
        "def print_time(time) :\n",
        "  sp_time = time.split('-')\n",
        "  time1 =  sp_time[0]\n",
        "  sp_time1 = time1.split(':')\n",
        "  time2 = sp_time[1]\n",
        "  sp_time2 = time2.split(':')\n",
        "  a1 = (int(sp_time1[0])*60*60) + (int(sp_time1[1])*60) + (int(sp_time1[2]))\n",
        "  a2 = (int(sp_time2[0])*60*60) + (int(sp_time2[1])*60) + (int(sp_time2[2]))\n",
        "  sectotal = a2-a1\n",
        "  print(f'ความต่างของเวลาเป็นวินาทีเท่ากับ {sectotal} วินาที')"
      ],
      "metadata": {
        "id": "4U4369c7icUR"
      },
      "execution_count": 3,
      "outputs": []
    },
    {
      "cell_type": "code",
      "source": [
        "print_time('09:11:50 - 12:30:15')"
      ],
      "metadata": {
        "colab": {
          "base_uri": "https://localhost:8080/"
        },
        "id": "8uvx3iknlnmp",
        "outputId": "2c4d0e76-a45d-439f-cafd-02b4ee06c365"
      },
      "execution_count": 4,
      "outputs": [
        {
          "output_type": "stream",
          "name": "stdout",
          "text": [
            "ความต่างของเวลาเป็นวินาทีเท่ากับ 11905 วินาที\n"
          ]
        }
      ]
    },
    {
      "cell_type": "code",
      "source": [
        "print_time('13:41:07 - 20:00:18')"
      ],
      "metadata": {
        "colab": {
          "base_uri": "https://localhost:8080/"
        },
        "id": "sfbGzXTBlvv3",
        "outputId": "d18db136-0d62-49f5-a464-6d8be4ec7091"
      },
      "execution_count": 5,
      "outputs": [
        {
          "output_type": "stream",
          "name": "stdout",
          "text": [
            "ความต่างของเวลาเป็นวินาทีเท่ากับ 22751 วินาที\n"
          ]
        }
      ]
    },
    {
      "cell_type": "code",
      "source": [
        "print_time('00:00:00 - 23:59:59')"
      ],
      "metadata": {
        "colab": {
          "base_uri": "https://localhost:8080/"
        },
        "id": "DWKdtVvtmB9c",
        "outputId": "0c70fc5d-e4fc-4d42-b510-72e7d057261e"
      },
      "execution_count": 6,
      "outputs": [
        {
          "output_type": "stream",
          "name": "stdout",
          "text": [
            "ความต่างของเวลาเป็นวินาทีเท่ากับ 86399 วินาที\n"
          ]
        }
      ]
    }
  ]
}